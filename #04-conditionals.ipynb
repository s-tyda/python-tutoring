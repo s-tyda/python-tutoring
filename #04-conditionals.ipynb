{
 "cells": [
  {
   "cell_type": "markdown",
   "metadata": {
    "collapsed": true,
    "pycharm": {
     "name": "#%% md\n"
    }
   },
   "source": [
    "# Instrukcje warunkowe (conditionals)\n",
    "Python tak jak większość języków programowania posiada instrukcje warunkowe, które służą do kontrolowoania przepływu kodu.\n",
    "Jest to przydatne, kiedy chcemy, żeby jakiś kod wykonał się tylko w określonym przypadku lub w zależności od jakiegoś przypadku\n",
    "wywoływał się inny kod. Można to łatwo przedstawić również w języku polskim np. poprzez zdanie:"
   ]
  },
  {
   "cell_type": "code",
   "execution_count": 1,
   "outputs": [],
   "source": [
    "Jeśli lubisz Kasię, to daj jej cukierka."
   ],
   "metadata": {
    "collapsed": false,
    "pycharm": {
     "name": "#%%\n"
    }
   }
  },
  {
   "cell_type": "markdown",
   "source": [
    "W takim wypadku wystarczy, że zadasz sobie pytanie, czy lubisz Kasię i jeśli tak, to dasz jej cukierka.\n",
    "W Pythonie użylibyśmy do tego słowa kluczeowa if:"
   ],
   "metadata": {
    "collapsed": false,
    "pycharm": {
     "name": "#%% md\n"
    }
   }
  },
  {
   "cell_type": "code",
   "execution_count": 2,
   "outputs": [
    {
     "name": "stdout",
     "output_type": "stream",
     "text": [
      "Kasia dostała cukierka.\n",
      "Koniec programu.\n"
     ]
    }
   ],
   "source": [
    "czy_lubie_Kasie = True\n",
    "if czy_lubie_Kasie == True:\n",
    "    print(\"Kasia dostała cukierka.\")\n",
    "print(\"Koniec programu.\")"
   ],
   "metadata": {
    "collapsed": false,
    "pycharm": {
     "name": "#%%\n"
    }
   }
  },
  {
   "cell_type": "markdown",
   "source": [
    "W Pythonie porównywanie zmiennej do True może być uproszczone do zapisania samej zmiennej. Powyższy zapis byłby równoznaczny\n",
    "z następującym:"
   ],
   "metadata": {
    "collapsed": false,
    "pycharm": {
     "name": "#%% md\n"
    }
   }
  },
  {
   "cell_type": "code",
   "execution_count": 3,
   "outputs": [
    {
     "name": "stdout",
     "output_type": "stream",
     "text": [
      "Kasia dostała cukierka.\n",
      "Koniec programu.\n"
     ]
    }
   ],
   "source": [
    "czy_lubie_Kasie = True\n",
    "if czy_lubie_Kasie:\n",
    "    print(\"Kasia dostała cukierka.\")\n",
    "print(\"Koniec programu.\")"
   ],
   "metadata": {
    "collapsed": false,
    "pycharm": {
     "name": "#%%\n"
    }
   }
  },
  {
   "cell_type": "markdown",
   "source": [
    "Gdyby zmienna stanowiąca o lubieniu Kasi była fałszem kod w ifie by się nie wykonał."
   ],
   "metadata": {
    "collapsed": false,
    "pycharm": {
     "name": "#%% md\n"
    }
   }
  },
  {
   "cell_type": "code",
   "execution_count": 4,
   "outputs": [
    {
     "name": "stdout",
     "output_type": "stream",
     "text": [
      "Koniec programu.\n"
     ]
    }
   ],
   "source": [
    "czy_lubie_Kasie = False\n",
    "if czy_lubie_Kasie:\n",
    "    print(\"Kasia dostała cukierka.\")\n",
    "print(\"Koniec programu.\")"
   ],
   "metadata": {
    "collapsed": false,
    "pycharm": {
     "name": "#%%\n"
    }
   }
  },
  {
   "cell_type": "markdown",
   "source": [
    "Podobnie można zbudować i uprościć warunek przeczący. Porównywani do False jest równoznaczne z dopisaniem not do zmiennej."
   ],
   "metadata": {
    "collapsed": false,
    "pycharm": {
     "name": "#%% md\n"
    }
   }
  },
  {
   "cell_type": "code",
   "execution_count": 5,
   "outputs": [
    {
     "name": "stdout",
     "output_type": "stream",
     "text": [
      "Kasia nie dostała cukierka.\n",
      "Koniec programu.\n"
     ]
    }
   ],
   "source": [
    "czy_lubie_Kasie = False\n",
    "if czy_lubie_Kasie == False:\n",
    "    print(\"Kasia nie dostała cukierka.\")\n",
    "print(\"Koniec programu.\")"
   ],
   "metadata": {
    "collapsed": false,
    "pycharm": {
     "name": "#%%\n"
    }
   }
  },
  {
   "cell_type": "code",
   "execution_count": 6,
   "outputs": [
    {
     "name": "stdout",
     "output_type": "stream",
     "text": [
      "Kasia nie dostała cukierka.\n",
      "Koniec programu.\n"
     ]
    }
   ],
   "source": [
    "czy_lubie_Kasie = False\n",
    "if not czy_lubie_Kasie:\n",
    "    print(\"Kasia nie dostała cukierka.\")\n",
    "print(\"Koniec programu.\")"
   ],
   "metadata": {
    "collapsed": false,
    "pycharm": {
     "name": "#%%\n"
    }
   }
  },
  {
   "cell_type": "markdown",
   "source": [
    "Warto zauważyć przy okazji, że bloki kodu w pythonie oddzielane są odpowiednimi wcięciami. W powyższym przykładzie blok kodu,\n",
    "który jest wykonywany przy spełnieniu warunku, jest wyraźnie poprzedzony tabulatorem (wcięciem). Służy to czytelności kodu, ale\n",
    "też poprawnemu jego wykonaniu. Dzięki wcięciom interpreter pythona rozpoznaje odpowiednie bloki. Nie zawarcie wcięcia w tym przypadku kończyłoby się błędem."
   ],
   "metadata": {
    "collapsed": false,
    "pycharm": {
     "name": "#%% md\n"
    }
   }
  },
  {
   "cell_type": "code",
   "execution_count": 7,
   "outputs": [
    {
     "ename": "IndentationError",
     "evalue": "expected an indented block (<ipython-input-7-28934a307957>, line 3)",
     "output_type": "error",
     "traceback": [
      "\u001B[1;36m  File \u001B[1;32m\"<ipython-input-7-28934a307957>\"\u001B[1;36m, line \u001B[1;32m3\u001B[0m\n\u001B[1;33m    print(\"Kasia nie dostała cukierka.\")\u001B[0m\n\u001B[1;37m    ^\u001B[0m\n\u001B[1;31mIndentationError\u001B[0m\u001B[1;31m:\u001B[0m expected an indented block\n"
     ]
    }
   ],
   "source": [
    "czy_lubie_Kasie = False\n",
    "if not czy_lubie_Kasie:\n",
    "print(\"Kasia nie dostała cukierka.\")\n",
    "print(\"Koniec programu.\")"
   ],
   "metadata": {
    "collapsed": false,
    "pycharm": {
     "name": "#%%\n"
    }
   }
  },
  {
   "cell_type": "markdown",
   "source": [
    "Jeśli chcemy wykonać jakiś kod w przypadku niespełnieniu warunku, korzystamy ze słowa kluczowego else."
   ],
   "metadata": {
    "collapsed": false,
    "pycharm": {
     "name": "#%% md\n"
    }
   }
  },
  {
   "cell_type": "code",
   "execution_count": 8,
   "outputs": [
    {
     "name": "stdout",
     "output_type": "stream",
     "text": [
      "Kasia dostała cukierka.\n",
      "Koniec programu.\n"
     ]
    }
   ],
   "source": [
    "czy_lubie_Kasie = True\n",
    "if czy_lubie_Kasie:\n",
    "    print(\"Kasia dostała cukierka.\")\n",
    "else:\n",
    "    print(\"Kasia nie dostała cukierka.\")\n",
    "print(\"Koniec programu.\")"
   ],
   "metadata": {
    "collapsed": false,
    "pycharm": {
     "name": "#%%\n"
    }
   }
  },
  {
   "cell_type": "code",
   "execution_count": 9,
   "outputs": [
    {
     "name": "stdout",
     "output_type": "stream",
     "text": [
      "Kasia nie dostała cukierka.\n",
      "Koniec programu.\n"
     ]
    }
   ],
   "source": [
    "czy_lubie_Kasie = False\n",
    "if czy_lubie_Kasie:\n",
    "    print(\"Kasia dostała cukierka.\")\n",
    "else:\n",
    "    print(\"Kasia nie dostała cukierka.\")\n",
    "print(\"Koniec programu.\")"
   ],
   "metadata": {
    "collapsed": false,
    "pycharm": {
     "name": "#%%\n"
    }
   }
  },
  {
   "cell_type": "markdown",
   "source": [
    "Warto zauważyć, że linia kodu wyświetlająca napis 'Koniec programu' wykonuje się zawsze, niezależnie od spełnienia warunku.\n",
    "W kodzie świadczy o tym brak wcięcia."
   ],
   "metadata": {
    "collapsed": false,
    "pycharm": {
     "name": "#%% md\n"
    }
   }
  },
  {
   "cell_type": "markdown",
   "source": [
    "Korzystając ze słowa kluczowego elif (pochodzące od else if), może sprawdzać kolejno kilka warunków i dzielić kod na więcej części."
   ],
   "metadata": {
    "collapsed": false,
    "pycharm": {
     "name": "#%% md\n"
    }
   }
  },
  {
   "cell_type": "code",
   "execution_count": 10,
   "outputs": [
    {
     "name": "stdout",
     "output_type": "stream",
     "text": [
      "x jest mniejsze od 10.\n",
      "Koniec programu.\n"
     ]
    }
   ],
   "source": [
    "x = 9\n",
    "if x < 10:\n",
    "    print(\"x jest mniejsze od 10.\")\n",
    "elif x > 10:\n",
    "    print(\"x jest większe od 10.\")\n",
    "else:\n",
    "    print(\"x jest równe 10.\")\n",
    "print(\"Koniec programu.\")"
   ],
   "metadata": {
    "collapsed": false,
    "pycharm": {
     "name": "#%%\n"
    }
   }
  },
  {
   "cell_type": "code",
   "execution_count": 11,
   "outputs": [
    {
     "name": "stdout",
     "output_type": "stream",
     "text": [
      "x jest większe od 10.\n",
      "Koniec programu.\n"
     ]
    }
   ],
   "source": [
    "x = 11\n",
    "if x < 10:\n",
    "    print(\"x jest mniejsze od 10.\")\n",
    "elif x > 10:\n",
    "    print(\"x jest większe od 10.\")\n",
    "else:\n",
    "    print(\"x jest równe 10.\")\n",
    "print(\"Koniec programu.\")"
   ],
   "metadata": {
    "collapsed": false,
    "pycharm": {
     "name": "#%%\n"
    }
   }
  },
  {
   "cell_type": "code",
   "execution_count": 12,
   "outputs": [
    {
     "name": "stdout",
     "output_type": "stream",
     "text": [
      "x jest równe 10.\n",
      "Koniec programu.\n"
     ]
    }
   ],
   "source": [
    "x = 10\n",
    "if x < 10:\n",
    "    print(\"x jest mniejsze od 10.\")\n",
    "elif x > 10:\n",
    "    print(\"x jest większe od 10.\")\n",
    "else:\n",
    "    print(\"x jest równe 10.\")\n",
    "print(\"Koniec programu.\")"
   ],
   "metadata": {
    "collapsed": false,
    "pycharm": {
     "name": "#%%\n"
    }
   }
  },
  {
   "cell_type": "markdown",
   "source": [
    "Warto wiedzieć, że warunki sprawdzane są w kolejności występowania i jeśli któryś zostanie już spełniony i wykona się odpowiedni kod, to reszta warunków jest pomijana."
   ],
   "metadata": {
    "collapsed": false,
    "pycharm": {
     "name": "#%% md\n"
    }
   }
  },
  {
   "cell_type": "code",
   "execution_count": 13,
   "outputs": [
    {
     "name": "stdout",
     "output_type": "stream",
     "text": [
      "Pierwszy warunek.\n",
      "Koniec programu.\n"
     ]
    }
   ],
   "source": [
    "x = 10\n",
    "if x == 10:\n",
    "    print(\"Pierwszy warunek.\")\n",
    "elif x == 10:\n",
    "    print(\"Drugi warunek.\")\n",
    "else:\n",
    "    print(\"Przciwny wypadek.\")\n",
    "print(\"Koniec programu.\")"
   ],
   "metadata": {
    "collapsed": false,
    "pycharm": {
     "name": "#%%\n"
    }
   }
  },
  {
   "cell_type": "markdown",
   "source": [
    "Podsumowując konstrukcja if...elif...else wygląda nastąpująco:"
   ],
   "metadata": {
    "collapsed": false,
    "pycharm": {
     "name": "#%% md\n"
    }
   }
  },
  {
   "cell_type": "code",
   "execution_count": null,
   "outputs": [],
   "source": [
    "if bool:\n",
    "    # Blok kodu\n",
    "elif bool:\n",
    "    # Blok kodu\n",
    "elif bool:\n",
    "    # Blok kodu\n",
    "else:\n",
    "    # Blok kodu"
   ],
   "metadata": {
    "collapsed": false,
    "pycharm": {
     "name": "#%%\n"
    }
   }
  },
  {
   "cell_type": "markdown",
   "source": [
    "Co znaczy tyle, że każdy warunek przyjmuje dowolne wyrażenie, które potrafi zwrócić boola (True lub False). Warunków w jednej konstrukcji może być dowolna liczba,\n",
    "wystarczy dodać odpowiednią liczbę instrukcji elif. Zarówno instrukcja elif, jak i else są opcjonalne."
   ],
   "metadata": {
    "collapsed": false,
    "pycharm": {
     "name": "#%% md\n"
    }
   }
  }
 ],
 "metadata": {
  "kernelspec": {
   "display_name": "Python 3",
   "language": "python",
   "name": "python3"
  },
  "language_info": {
   "codemirror_mode": {
    "name": "ipython",
    "version": 2
   },
   "file_extension": ".py",
   "mimetype": "text/x-python",
   "name": "python",
   "nbconvert_exporter": "python",
   "pygments_lexer": "ipython2",
   "version": "2.7.6"
  }
 },
 "nbformat": 4,
 "nbformat_minor": 0
}